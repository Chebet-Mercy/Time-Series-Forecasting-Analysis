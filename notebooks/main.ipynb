{
 "cells": [
  {
   "cell_type": "markdown",
   "metadata": {},
   "source": [
    "## Time Series Regression Analysis at Corporation Favorita"
   ]
  },
  {
   "cell_type": "markdown",
   "metadata": {},
   "source": [
    "### Business Understanding\n",
    "### Problem Statement:\n",
    "Corporation Favorita aims to improve inventory management by accurately forecasting product demand across its stores in Ecuador. This project focuses on developing robust time series regression models using historical sales data, promotional activities, and store-specific attributes to optimize inventory levels, reduce stockouts, and enhance operational efficiency\n",
    "\n",
    "### Project Description:\n",
    "In this project, we aim to develop robust machine learning models to forecast the unit sales of various items across Corporation Favorita's stores in Ecuador. Leveraging the CRISP-DM framework, our goal is to accurately predict future sales based on historical data, store locations, product attributes, promotional activities, and other relevant factors. By doing so, we intend to optimize inventory management and ensure that each store maintains sufficient stock levels to meet customer demand effectively.\n",
    "\n",
    "### Hypothesis Testing :\n",
    "- Null Hypothesis (H0): Historical sales data, promotional indicators, and store-specific characteristics have no significant impact on the accuracy of sales forecasts for individual items across Corporation Favorita's stores.\n",
    "\n",
    "- Alternative Hypothesis (H1): By utilizing historical sales data, promotional indicators, and store-specific characteristics, we can build predictive models that significantly improve the accuracy of sales forecasts for individual items across Corporation Favorita's stores.\n",
    "\n",
    "### Analytical Questions:\n",
    "- Is the train dataset complete (has all the required dates)?\n",
    "- Which dates have the lowest and highest sales for each year (excluding days the store was closed)?\n",
    "- Compare the sales for each month across the years and determine which month of which year had the highest sales.\n",
    "- Did the earthquake impact sales?\n",
    "- Are certain stores or groups of stores selling more products? (Cluster, city, state, type)\n",
    "- Are sales affected by promotions, oil prices and holidays?\n",
    "- What analysis can we get from the date and its extractable features?\n",
    "- Which product family and stores did the promotions affect.\n",
    "- What is the difference between RMSLE, RMSE, MSE (or why is the MAE greater than all of them?)\n",
    "- Does the payment of wages in the public sector on the 15th and last days of the month influence the store sales."
   ]
  },
  {
   "cell_type": "markdown",
   "metadata": {},
   "source": [
    "### Data Understanding"
   ]
  },
  {
   "cell_type": "code",
   "execution_count": 2,
   "metadata": {},
   "outputs": [],
   "source": [
    "# Import necessary libraries\n",
    "\n",
    "# Connect to server\n",
    "import pyodbc\n",
    "from dotenv import dotenv_values\n",
    "\n",
    "# Datetime\n",
    "from datetime import datetime\n",
    "\n",
    "# Data manipulation\n",
    "import numpy as np\n",
    "import pandas as pd\n",
    "\n",
    "# Visualization\n",
    "import matplotlib.pyplot as plt\n",
    "import plotly.graph_objects as go\n",
    "import plotly.express as px\n",
    "from plotly.subplots import make_subplots\n",
    "import seaborn as sns\n",
    "\n",
    "\n",
    "# Decomposition\n",
    "from statsmodels.tsa.seasonal import seasonal_decompose\n",
    "\n",
    "# Statistical Analysis\n",
    "import scipy.stats as stats\n",
    "from statsmodels.stats.weightstats import ttest_ind\n",
    "import statsmodels.api as sm\n",
    "#from pmdarima.arima import CHTest, nsdiffs\n",
    "from arch.unitroot import ADF, KPSS\n",
    "from statsmodels.stats.diagnostic import acorr_ljungbox\n",
    "from statsmodels.tsa.seasonal import seasonal_decompose\n",
    "import phik\n",
    "from statsmodels.tsa.arima.model import ARIMA\n",
    "from statsmodels.tsa.statespace.sarimax import SARIMAX\n",
    "from statsmodels.tsa.holtwinters import ExponentialSmoothing\n",
    "\n",
    "# Machine Learning Modeling\n",
    "from sklearn.preprocessing import StandardScaler, MinMaxScaler, OneHotEncoder\n",
    "from sklearn.compose import ColumnTransformer\n",
    "from sklearn.linear_model import LinearRegression\n",
    "from sklearn.model_selection import RandomizedSearchCV\n",
    "import xgboost as xgb\n",
    "from sklearn.metrics import mean_squared_error\n",
    "from sklearn.preprocessing import MinMaxScaler, OneHotEncoder\n",
    "from statsmodels.tsa.holtwinters import ExponentialSmoothing\n",
    "import matplotlib.pyplot as plt\n",
    "from sklearn.metrics import mean_squared_error, mean_absolute_error\n",
    "from sklearn.metrics import mean_squared_error, mean_absolute_error, mean_squared_log_error\n",
    "import random\n",
    "\n",
    "import warnings\n",
    "\n",
    "# ignore warnings\n",
    "warnings.filterwarnings('ignore')"
   ]
  },
  {
   "cell_type": "code",
   "execution_count": 3,
   "metadata": {},
   "outputs": [],
   "source": [
    "# Load environment variables from a .env file\n",
    "env_variables = dotenv_values(r'C:\\Users\\MERCY CHEBET\\Desktop\\Azubi\\Time-Series-Forecasting-Analysis\\.env')\n",
    "\n",
    "server= env_variables.get('SERVER')\n",
    "database= env_variables.get('DATABASE')\n",
    "username= env_variables.get('USERNAME')\n",
    "password= env_variables.get('PASSWORD')"
   ]
  },
  {
   "cell_type": "code",
   "execution_count": 4,
   "metadata": {},
   "outputs": [],
   "source": [
    "# Setup connection string to connect to the remote server\n",
    "connection_string =pyodbc.connect(f'DRIVER={{SQL Server}};SERVER={server};DATABASE={database};UID={username};PWD={password}')"
   ]
  },
  {
   "cell_type": "code",
   "execution_count": 5,
   "metadata": {},
   "outputs": [],
   "source": [
    "# Query statement to fetch oil, holidays_events and stores data from the remote server\n",
    "oil_query = 'SELECT * FROM dbo.oil'\n",
    "holidays_query = 'SELECT * FROM dbo.holidays_events'\n",
    "stores_query = 'SELECT * FROM dbo.stores'"
   ]
  },
  {
   "cell_type": "code",
   "execution_count": 6,
   "metadata": {},
   "outputs": [],
   "source": [
    "# Redefine datatypes\n",
    "dtypes = {'id':'int64', 'store_nbr':'int8', 'onpromotion': str}"
   ]
  },
  {
   "cell_type": "code",
   "execution_count": 8,
   "metadata": {},
   "outputs": [],
   "source": [
    "# Connecting to the Dataset\n",
    "# Read all data from different sources\n",
    "data_oil = pd.read_sql_query(oil_query, connection_string, parse_dates=['date'])\n",
    "df_holidays_events = pd.read_sql_query(holidays_query, connection_string, parse_dates=['date'], dtype={'transferred': str})\n",
    "df_stores = pd.read_sql_query(stores_query, connection_string)\n",
    "transactions = pd.read_csv('..\\\\datasets\\\\transactions.csv', parse_dates=['date'])\n",
    "df_train = pd.read_csv('..\\\\datasets\\\\train.csv', parse_dates=['date'], dtype=dtypes)\n",
    "df_test = pd.read_csv('..\\\\datasets\\\\test.csv', parse_dates=['date'], dtype=dtypes)"
   ]
  },
  {
   "cell_type": "markdown",
   "metadata": {},
   "source": [
    "##### Inspecting Columns In Oil"
   ]
  },
  {
   "cell_type": "code",
   "execution_count": 9,
   "metadata": {},
   "outputs": [
    {
     "data": {
      "text/html": [
       "<div>\n",
       "<style scoped>\n",
       "    .dataframe tbody tr th:only-of-type {\n",
       "        vertical-align: middle;\n",
       "    }\n",
       "\n",
       "    .dataframe tbody tr th {\n",
       "        vertical-align: top;\n",
       "    }\n",
       "\n",
       "    .dataframe thead th {\n",
       "        text-align: right;\n",
       "    }\n",
       "</style>\n",
       "<table border=\"1\" class=\"dataframe\">\n",
       "  <thead>\n",
       "    <tr style=\"text-align: right;\">\n",
       "      <th></th>\n",
       "      <th>date</th>\n",
       "      <th>dcoilwtico</th>\n",
       "    </tr>\n",
       "  </thead>\n",
       "  <tbody>\n",
       "    <tr>\n",
       "      <th>0</th>\n",
       "      <td>2013-01-01</td>\n",
       "      <td>NaN</td>\n",
       "    </tr>\n",
       "    <tr>\n",
       "      <th>1</th>\n",
       "      <td>2013-01-02</td>\n",
       "      <td>93.139999</td>\n",
       "    </tr>\n",
       "    <tr>\n",
       "      <th>2</th>\n",
       "      <td>2013-01-03</td>\n",
       "      <td>92.970001</td>\n",
       "    </tr>\n",
       "    <tr>\n",
       "      <th>3</th>\n",
       "      <td>2013-01-04</td>\n",
       "      <td>93.120003</td>\n",
       "    </tr>\n",
       "    <tr>\n",
       "      <th>4</th>\n",
       "      <td>2013-01-07</td>\n",
       "      <td>93.199997</td>\n",
       "    </tr>\n",
       "  </tbody>\n",
       "</table>\n",
       "</div>"
      ],
      "text/plain": [
       "        date  dcoilwtico\n",
       "0 2013-01-01         NaN\n",
       "1 2013-01-02   93.139999\n",
       "2 2013-01-03   92.970001\n",
       "3 2013-01-04   93.120003\n",
       "4 2013-01-07   93.199997"
      ]
     },
     "execution_count": 9,
     "metadata": {},
     "output_type": "execute_result"
    }
   ],
   "source": [
    "data_oil.head()"
   ]
  },
  {
   "cell_type": "code",
   "execution_count": 10,
   "metadata": {},
   "outputs": [
    {
     "name": "stdout",
     "output_type": "stream",
     "text": [
      "<class 'pandas.core.frame.DataFrame'>\n",
      "RangeIndex: 1218 entries, 0 to 1217\n",
      "Data columns (total 2 columns):\n",
      " #   Column      Non-Null Count  Dtype         \n",
      "---  ------      --------------  -----         \n",
      " 0   date        1218 non-null   datetime64[ns]\n",
      " 1   dcoilwtico  1175 non-null   float64       \n",
      "dtypes: datetime64[ns](1), float64(1)\n",
      "memory usage: 19.2 KB\n"
     ]
    }
   ],
   "source": [
    "data_oil.info()"
   ]
  },
  {
   "cell_type": "code",
   "execution_count": 11,
   "metadata": {},
   "outputs": [
    {
     "data": {
      "text/plain": [
       "(1218, 2)"
      ]
     },
     "execution_count": 11,
     "metadata": {},
     "output_type": "execute_result"
    }
   ],
   "source": [
    "data_oil.shape"
   ]
  },
  {
   "cell_type": "code",
   "execution_count": 12,
   "metadata": {},
   "outputs": [
    {
     "data": {
      "text/plain": [
       "date           0\n",
       "dcoilwtico    43\n",
       "dtype: int64"
      ]
     },
     "execution_count": 12,
     "metadata": {},
     "output_type": "execute_result"
    }
   ],
   "source": [
    "data_oil.isnull().sum()"
   ]
  },
  {
   "cell_type": "code",
   "execution_count": 13,
   "metadata": {},
   "outputs": [
    {
     "data": {
      "text/plain": [
       "np.int64(0)"
      ]
     },
     "execution_count": 13,
     "metadata": {},
     "output_type": "execute_result"
    }
   ],
   "source": [
    "data_oil.duplicated().sum()"
   ]
  },
  {
   "cell_type": "markdown",
   "metadata": {},
   "source": [
    "##### Inspecting Columns In Holiday"
   ]
  },
  {
   "cell_type": "code",
   "execution_count": 14,
   "metadata": {},
   "outputs": [
    {
     "data": {
      "text/html": [
       "<div>\n",
       "<style scoped>\n",
       "    .dataframe tbody tr th:only-of-type {\n",
       "        vertical-align: middle;\n",
       "    }\n",
       "\n",
       "    .dataframe tbody tr th {\n",
       "        vertical-align: top;\n",
       "    }\n",
       "\n",
       "    .dataframe thead th {\n",
       "        text-align: right;\n",
       "    }\n",
       "</style>\n",
       "<table border=\"1\" class=\"dataframe\">\n",
       "  <thead>\n",
       "    <tr style=\"text-align: right;\">\n",
       "      <th></th>\n",
       "      <th>date</th>\n",
       "      <th>type</th>\n",
       "      <th>locale</th>\n",
       "      <th>locale_name</th>\n",
       "      <th>description</th>\n",
       "      <th>transferred</th>\n",
       "    </tr>\n",
       "  </thead>\n",
       "  <tbody>\n",
       "    <tr>\n",
       "      <th>0</th>\n",
       "      <td>2012-03-02</td>\n",
       "      <td>Holiday</td>\n",
       "      <td>Local</td>\n",
       "      <td>Manta</td>\n",
       "      <td>Fundacion de Manta</td>\n",
       "      <td>False</td>\n",
       "    </tr>\n",
       "    <tr>\n",
       "      <th>1</th>\n",
       "      <td>2012-04-01</td>\n",
       "      <td>Holiday</td>\n",
       "      <td>Regional</td>\n",
       "      <td>Cotopaxi</td>\n",
       "      <td>Provincializacion de Cotopaxi</td>\n",
       "      <td>False</td>\n",
       "    </tr>\n",
       "    <tr>\n",
       "      <th>2</th>\n",
       "      <td>2012-04-12</td>\n",
       "      <td>Holiday</td>\n",
       "      <td>Local</td>\n",
       "      <td>Cuenca</td>\n",
       "      <td>Fundacion de Cuenca</td>\n",
       "      <td>False</td>\n",
       "    </tr>\n",
       "    <tr>\n",
       "      <th>3</th>\n",
       "      <td>2012-04-14</td>\n",
       "      <td>Holiday</td>\n",
       "      <td>Local</td>\n",
       "      <td>Libertad</td>\n",
       "      <td>Cantonizacion de Libertad</td>\n",
       "      <td>False</td>\n",
       "    </tr>\n",
       "    <tr>\n",
       "      <th>4</th>\n",
       "      <td>2012-04-21</td>\n",
       "      <td>Holiday</td>\n",
       "      <td>Local</td>\n",
       "      <td>Riobamba</td>\n",
       "      <td>Cantonizacion de Riobamba</td>\n",
       "      <td>False</td>\n",
       "    </tr>\n",
       "  </tbody>\n",
       "</table>\n",
       "</div>"
      ],
      "text/plain": [
       "        date     type    locale locale_name                    description  \\\n",
       "0 2012-03-02  Holiday     Local       Manta             Fundacion de Manta   \n",
       "1 2012-04-01  Holiday  Regional    Cotopaxi  Provincializacion de Cotopaxi   \n",
       "2 2012-04-12  Holiday     Local      Cuenca            Fundacion de Cuenca   \n",
       "3 2012-04-14  Holiday     Local    Libertad      Cantonizacion de Libertad   \n",
       "4 2012-04-21  Holiday     Local    Riobamba      Cantonizacion de Riobamba   \n",
       "\n",
       "  transferred  \n",
       "0       False  \n",
       "1       False  \n",
       "2       False  \n",
       "3       False  \n",
       "4       False  "
      ]
     },
     "execution_count": 14,
     "metadata": {},
     "output_type": "execute_result"
    }
   ],
   "source": [
    "df_holidays_events.head()"
   ]
  },
  {
   "cell_type": "code",
   "execution_count": 15,
   "metadata": {},
   "outputs": [
    {
     "name": "stdout",
     "output_type": "stream",
     "text": [
      "<class 'pandas.core.frame.DataFrame'>\n",
      "RangeIndex: 350 entries, 0 to 349\n",
      "Data columns (total 6 columns):\n",
      " #   Column       Non-Null Count  Dtype         \n",
      "---  ------       --------------  -----         \n",
      " 0   date         350 non-null    datetime64[ns]\n",
      " 1   type         350 non-null    object        \n",
      " 2   locale       350 non-null    object        \n",
      " 3   locale_name  350 non-null    object        \n",
      " 4   description  350 non-null    object        \n",
      " 5   transferred  350 non-null    object        \n",
      "dtypes: datetime64[ns](1), object(5)\n",
      "memory usage: 16.5+ KB\n"
     ]
    }
   ],
   "source": [
    "df_holidays_events.info()"
   ]
  },
  {
   "cell_type": "code",
   "execution_count": 16,
   "metadata": {},
   "outputs": [
    {
     "data": {
      "text/plain": [
       "(350, 6)"
      ]
     },
     "execution_count": 16,
     "metadata": {},
     "output_type": "execute_result"
    }
   ],
   "source": [
    "df_holidays_events.shape"
   ]
  },
  {
   "cell_type": "code",
   "execution_count": 17,
   "metadata": {},
   "outputs": [
    {
     "data": {
      "text/plain": [
       "date           0\n",
       "type           0\n",
       "locale         0\n",
       "locale_name    0\n",
       "description    0\n",
       "transferred    0\n",
       "dtype: int64"
      ]
     },
     "execution_count": 17,
     "metadata": {},
     "output_type": "execute_result"
    }
   ],
   "source": [
    "df_holidays_events.isnull().sum()"
   ]
  },
  {
   "cell_type": "code",
   "execution_count": 18,
   "metadata": {},
   "outputs": [
    {
     "data": {
      "text/plain": [
       "np.int64(0)"
      ]
     },
     "execution_count": 18,
     "metadata": {},
     "output_type": "execute_result"
    }
   ],
   "source": [
    "df_holidays_events.duplicated().sum()"
   ]
  },
  {
   "cell_type": "markdown",
   "metadata": {},
   "source": [
    "##### Inspecting Columns In Stores"
   ]
  },
  {
   "cell_type": "code",
   "execution_count": 19,
   "metadata": {},
   "outputs": [
    {
     "data": {
      "text/html": [
       "<div>\n",
       "<style scoped>\n",
       "    .dataframe tbody tr th:only-of-type {\n",
       "        vertical-align: middle;\n",
       "    }\n",
       "\n",
       "    .dataframe tbody tr th {\n",
       "        vertical-align: top;\n",
       "    }\n",
       "\n",
       "    .dataframe thead th {\n",
       "        text-align: right;\n",
       "    }\n",
       "</style>\n",
       "<table border=\"1\" class=\"dataframe\">\n",
       "  <thead>\n",
       "    <tr style=\"text-align: right;\">\n",
       "      <th></th>\n",
       "      <th>store_nbr</th>\n",
       "      <th>city</th>\n",
       "      <th>state</th>\n",
       "      <th>type</th>\n",
       "      <th>cluster</th>\n",
       "    </tr>\n",
       "  </thead>\n",
       "  <tbody>\n",
       "    <tr>\n",
       "      <th>0</th>\n",
       "      <td>1</td>\n",
       "      <td>Quito</td>\n",
       "      <td>Pichincha</td>\n",
       "      <td>D</td>\n",
       "      <td>13</td>\n",
       "    </tr>\n",
       "    <tr>\n",
       "      <th>1</th>\n",
       "      <td>2</td>\n",
       "      <td>Quito</td>\n",
       "      <td>Pichincha</td>\n",
       "      <td>D</td>\n",
       "      <td>13</td>\n",
       "    </tr>\n",
       "    <tr>\n",
       "      <th>2</th>\n",
       "      <td>3</td>\n",
       "      <td>Quito</td>\n",
       "      <td>Pichincha</td>\n",
       "      <td>D</td>\n",
       "      <td>8</td>\n",
       "    </tr>\n",
       "    <tr>\n",
       "      <th>3</th>\n",
       "      <td>4</td>\n",
       "      <td>Quito</td>\n",
       "      <td>Pichincha</td>\n",
       "      <td>D</td>\n",
       "      <td>9</td>\n",
       "    </tr>\n",
       "    <tr>\n",
       "      <th>4</th>\n",
       "      <td>5</td>\n",
       "      <td>Santo Domingo</td>\n",
       "      <td>Santo Domingo de los Tsachilas</td>\n",
       "      <td>D</td>\n",
       "      <td>4</td>\n",
       "    </tr>\n",
       "  </tbody>\n",
       "</table>\n",
       "</div>"
      ],
      "text/plain": [
       "   store_nbr           city                           state type  cluster\n",
       "0          1          Quito                       Pichincha    D       13\n",
       "1          2          Quito                       Pichincha    D       13\n",
       "2          3          Quito                       Pichincha    D        8\n",
       "3          4          Quito                       Pichincha    D        9\n",
       "4          5  Santo Domingo  Santo Domingo de los Tsachilas    D        4"
      ]
     },
     "execution_count": 19,
     "metadata": {},
     "output_type": "execute_result"
    }
   ],
   "source": [
    "df_stores.head()"
   ]
  },
  {
   "cell_type": "code",
   "execution_count": 20,
   "metadata": {},
   "outputs": [
    {
     "name": "stdout",
     "output_type": "stream",
     "text": [
      "<class 'pandas.core.frame.DataFrame'>\n",
      "RangeIndex: 54 entries, 0 to 53\n",
      "Data columns (total 5 columns):\n",
      " #   Column     Non-Null Count  Dtype \n",
      "---  ------     --------------  ----- \n",
      " 0   store_nbr  54 non-null     int64 \n",
      " 1   city       54 non-null     object\n",
      " 2   state      54 non-null     object\n",
      " 3   type       54 non-null     object\n",
      " 4   cluster    54 non-null     int64 \n",
      "dtypes: int64(2), object(3)\n",
      "memory usage: 2.2+ KB\n"
     ]
    }
   ],
   "source": [
    "df_stores.info()"
   ]
  },
  {
   "cell_type": "code",
   "execution_count": 21,
   "metadata": {},
   "outputs": [
    {
     "data": {
      "text/plain": [
       "(54, 5)"
      ]
     },
     "execution_count": 21,
     "metadata": {},
     "output_type": "execute_result"
    }
   ],
   "source": [
    "df_stores.shape"
   ]
  },
  {
   "cell_type": "code",
   "execution_count": 22,
   "metadata": {},
   "outputs": [
    {
     "data": {
      "text/plain": [
       "store_nbr    0\n",
       "city         0\n",
       "state        0\n",
       "type         0\n",
       "cluster      0\n",
       "dtype: int64"
      ]
     },
     "execution_count": 22,
     "metadata": {},
     "output_type": "execute_result"
    }
   ],
   "source": [
    "df_stores.isnull().sum()"
   ]
  },
  {
   "cell_type": "code",
   "execution_count": 23,
   "metadata": {},
   "outputs": [
    {
     "data": {
      "text/plain": [
       "np.int64(0)"
      ]
     },
     "execution_count": 23,
     "metadata": {},
     "output_type": "execute_result"
    }
   ],
   "source": [
    "\n",
    "df_stores.duplicated().sum()"
   ]
  },
  {
   "cell_type": "markdown",
   "metadata": {},
   "source": [
    "##### Checking Unique Values"
   ]
  },
  {
   "cell_type": "code",
   "execution_count": 24,
   "metadata": {},
   "outputs": [
    {
     "name": "stdout",
     "output_type": "stream",
     "text": [
      "Unique values in df_stores:\n",
      "store_nbr\n",
      "There are 54 unique values\n",
      "[ 1  2  3  4  5  6  7  8  9 10 11 12 13 14 15 16 17 18 19 20 21 22 23 24\n",
      " 25 26 27 28 29 30 31 32 33 34 35 36 37 38 39 40 41 42 43 44 45 46 47 48\n",
      " 49 50 51 52 53 54]\n",
      "==================================================\n",
      "city\n",
      "There are 22 unique values\n",
      "['Quito' 'Santo Domingo' 'Cayambe' 'Latacunga' 'Riobamba' 'Ibarra'\n",
      " 'Guaranda' 'Puyo' 'Ambato' 'Guayaquil' 'Salinas' 'Daule' 'Babahoyo'\n",
      " 'Quevedo' 'Playas' 'Libertad' 'Cuenca' 'Loja' 'Machala' 'Esmeraldas'\n",
      " 'Manta' 'El Carmen']\n",
      "==================================================\n",
      "state\n",
      "There are 16 unique values\n",
      "['Pichincha' 'Santo Domingo de los Tsachilas' 'Cotopaxi' 'Chimborazo'\n",
      " 'Imbabura' 'Bolivar' 'Pastaza' 'Tungurahua' 'Guayas' 'Santa Elena'\n",
      " 'Los Rios' 'Azuay' 'Loja' 'El Oro' 'Esmeraldas' 'Manabi']\n",
      "==================================================\n",
      "type\n",
      "There are 5 unique values\n",
      "['D' 'B' 'C' 'E' 'A']\n",
      "==================================================\n",
      "cluster\n",
      "There are 17 unique values\n",
      "[13  8  9  4  6 15  7  3 12 16  1 10  2  5 11 14 17]\n",
      "==================================================\n",
      "\n",
      "\n",
      "Unique values in df_holidays_events:\n",
      "date\n",
      "There are 312 unique values\n",
      "<DatetimeArray>\n",
      "['2012-03-02 00:00:00', '2012-04-01 00:00:00', '2012-04-12 00:00:00',\n",
      " '2012-04-14 00:00:00', '2012-04-21 00:00:00', '2012-05-12 00:00:00',\n",
      " '2012-06-23 00:00:00', '2012-06-25 00:00:00', '2012-07-03 00:00:00',\n",
      " '2012-07-23 00:00:00',\n",
      " ...\n",
      " '2017-11-12 00:00:00', '2017-12-05 00:00:00', '2017-12-06 00:00:00',\n",
      " '2017-12-08 00:00:00', '2017-12-21 00:00:00', '2017-12-22 00:00:00',\n",
      " '2017-12-23 00:00:00', '2017-12-24 00:00:00', '2017-12-25 00:00:00',\n",
      " '2017-12-26 00:00:00']\n",
      "Length: 312, dtype: datetime64[ns]\n",
      "==================================================\n",
      "type\n",
      "There are 6 unique values\n",
      "['Holiday' 'Transfer' 'Additional' 'Bridge' 'Work Day' 'Event']\n",
      "==================================================\n",
      "locale\n",
      "There are 3 unique values\n",
      "['Local' 'Regional' 'National']\n",
      "==================================================\n",
      "locale_name\n",
      "There are 24 unique values\n",
      "['Manta' 'Cotopaxi' 'Cuenca' 'Libertad' 'Riobamba' 'Puyo' 'Guaranda'\n",
      " 'Imbabura' 'Latacunga' 'Machala' 'Santo Domingo' 'El Carmen' 'Cayambe'\n",
      " 'Esmeraldas' 'Ecuador' 'Ambato' 'Ibarra' 'Quevedo'\n",
      " 'Santo Domingo de los Tsachilas' 'Santa Elena' 'Quito' 'Loja' 'Salinas'\n",
      " 'Guayaquil']\n",
      "==================================================\n",
      "description\n",
      "There are 103 unique values\n",
      "['Fundacion de Manta' 'Provincializacion de Cotopaxi'\n",
      " 'Fundacion de Cuenca' 'Cantonizacion de Libertad'\n",
      " 'Cantonizacion de Riobamba' 'Cantonizacion del Puyo'\n",
      " 'Cantonizacion de Guaranda' 'Provincializacion de Imbabura'\n",
      " 'Cantonizacion de Latacunga' 'Fundacion de Machala'\n",
      " 'Fundacion de Santo Domingo' 'Cantonizacion de El Carmen'\n",
      " 'Cantonizacion de Cayambe' 'Fundacion de Esmeraldas'\n",
      " 'Primer Grito de Independencia' 'Fundacion de Riobamba'\n",
      " 'Fundacion de Ambato' 'Fundacion de Ibarra' 'Cantonizacion de Quevedo'\n",
      " 'Independencia de Guayaquil' 'Traslado Independencia de Guayaquil'\n",
      " 'Dia de Difuntos' 'Independencia de Cuenca'\n",
      " 'Provincializacion de Santo Domingo' 'Provincializacion Santa Elena'\n",
      " 'Independencia de Guaranda' 'Independencia de Latacunga'\n",
      " 'Independencia de Ambato' 'Fundacion de Quito-1' 'Fundacion de Quito'\n",
      " 'Fundacion de Loja' 'Navidad-4' 'Cantonizacion de Salinas' 'Navidad-3'\n",
      " 'Navidad-2' 'Puente Navidad' 'Navidad-1' 'Navidad' 'Navidad+1'\n",
      " 'Puente Primer dia del ano' 'Primer dia del ano-1' 'Primer dia del ano'\n",
      " 'Recupero puente Navidad' 'Recupero puente primer dia del ano' 'Carnaval'\n",
      " 'Viernes Santo' 'Dia del Trabajo' 'Dia de la Madre-1' 'Dia de la Madre'\n",
      " 'Batalla de Pichincha' 'Fundacion de Guayaquil-1'\n",
      " 'Fundacion de Guayaquil' 'Inauguracion Mundial de futbol Brasil'\n",
      " 'Mundial de futbol Brasil: Ecuador-Suiza'\n",
      " 'Mundial de futbol Brasil: Ecuador-Honduras'\n",
      " 'Mundial de futbol Brasil: Ecuador-Francia'\n",
      " 'Mundial de futbol Brasil: Octavos de Final'\n",
      " 'Mundial de futbol Brasil: Cuartos de Final'\n",
      " 'Mundial de futbol Brasil: Semifinales'\n",
      " 'Mundial de futbol Brasil: Tercer y cuarto lugar'\n",
      " 'Mundial de futbol Brasil: Final' 'Black Friday' 'Cyber Monday'\n",
      " 'Recupero Puente Navidad' 'Recupero Puente Primer dia del ano'\n",
      " 'Terremoto Manabi' 'Terremoto Manabi+1' 'Terremoto Manabi+2'\n",
      " 'Terremoto Manabi+3' 'Terremoto Manabi+4' 'Terremoto Manabi+5'\n",
      " 'Terremoto Manabi+6' 'Terremoto Manabi+7' 'Terremoto Manabi+8'\n",
      " 'Terremoto Manabi+9' 'Terremoto Manabi+10' 'Terremoto Manabi+11'\n",
      " 'Terremoto Manabi+12' 'Terremoto Manabi+13' 'Terremoto Manabi+14'\n",
      " 'Terremoto Manabi+15' 'Terremoto Manabi+16' 'Terremoto Manabi+17'\n",
      " 'Terremoto Manabi+18' 'Terremoto Manabi+19' 'Terremoto Manabi+20'\n",
      " 'Terremoto Manabi+21' 'Terremoto Manabi+22' 'Terremoto Manabi+23'\n",
      " 'Terremoto Manabi+24' 'Terremoto Manabi+25' 'Terremoto Manabi+26'\n",
      " 'Terremoto Manabi+27' 'Terremoto Manabi+28' 'Terremoto Manabi+29'\n",
      " 'Terremoto Manabi+30' 'Traslado Batalla de Pichincha'\n",
      " 'Traslado Fundacion de Guayaquil'\n",
      " 'Traslado Primer Grito de Independencia' 'Puente Dia de Difuntos'\n",
      " 'Recupero Puente Dia de Difuntos' 'Traslado Primer dia del ano'\n",
      " 'Traslado Fundacion de Quito']\n",
      "==================================================\n",
      "transferred\n",
      "There are 2 unique values\n",
      "['False' 'True']\n",
      "==================================================\n",
      "\n",
      "\n",
      "Unique values in data_oil:\n",
      "date\n",
      "There are 1218 unique values\n",
      "<DatetimeArray>\n",
      "['2013-01-01 00:00:00', '2013-01-02 00:00:00', '2013-01-03 00:00:00',\n",
      " '2013-01-04 00:00:00', '2013-01-07 00:00:00', '2013-01-08 00:00:00',\n",
      " '2013-01-09 00:00:00', '2013-01-10 00:00:00', '2013-01-11 00:00:00',\n",
      " '2013-01-14 00:00:00',\n",
      " ...\n",
      " '2017-08-18 00:00:00', '2017-08-21 00:00:00', '2017-08-22 00:00:00',\n",
      " '2017-08-23 00:00:00', '2017-08-24 00:00:00', '2017-08-25 00:00:00',\n",
      " '2017-08-28 00:00:00', '2017-08-29 00:00:00', '2017-08-30 00:00:00',\n",
      " '2017-08-31 00:00:00']\n",
      "Length: 1218, dtype: datetime64[ns]\n",
      "==================================================\n",
      "dcoilwtico\n",
      "There are 999 unique values\n",
      "[         nan  93.13999939  92.97000122  93.12000275  93.19999695\n",
      "  93.20999908  93.08000183  93.80999756  93.59999847  94.26999664\n",
      "  93.26000214  94.27999878  95.48999786  95.61000061  96.08999634\n",
      "  95.05999756  95.34999847  95.15000153  95.94999695  97.62000275\n",
      "  97.98000336  97.65000153  97.45999908  96.20999908  96.68000031\n",
      "  96.44000244  95.83999634  95.70999908  97.01000214  97.48000336\n",
      "  97.02999878  97.30000305  96.69000244  94.91999817  92.79000092\n",
      "  92.73999786  92.62999725  92.83999634  92.02999878  90.70999908\n",
      "  90.12999725  90.87999725  90.47000122  91.52999878  92.01000214\n",
      "  92.06999969  92.44000244  92.47000122  93.02999878  93.48999786\n",
      "  93.70999908  92.45999908  93.41000366  94.55000305  95.98999786\n",
      "  96.52999878  97.23999786  97.09999847  97.23000336  95.01999664\n",
      "  92.76000214  93.36000061  94.18000031  94.58999634  93.44000244\n",
      "  91.23000336  88.75        88.73000336  86.65000153  87.83000183\n",
      "  88.04000092  88.80999756  89.20999908  91.06999969  93.26999664\n",
      "  94.08999634  93.22000122  90.73999786  93.69999695  95.25\n",
      "  95.80000305  95.27999878  96.23999786  95.80999756  94.76000214\n",
      "  93.95999908  93.94999695  94.84999847  95.72000122  96.29000092\n",
      "  95.55000305  93.98000336  94.12000275  93.83999634  94.65000153\n",
      "  93.12999725  93.56999969  91.93000031  93.66000366  94.70999908\n",
      "  96.11000061  95.81999969  95.5         95.98000336  96.66000366\n",
      "  97.83000183  97.86000061  98.45999908  98.23999786  94.88999939\n",
      "  95.06999969  95.47000122  97.          96.36000061  97.94000244\n",
      "  99.65000153 101.91999817 103.08999634 103.02999878 103.45999908\n",
      " 106.41000366 104.76999664 105.84999847 106.19999695 105.87999725\n",
      " 106.38999939 107.94000244 108.         106.61000061 107.12999725\n",
      " 105.41000366 105.47000122 104.76000214 104.61000061 103.13999939\n",
      " 105.09999847 107.93000031 106.94000244 105.31999969 104.41000366\n",
      " 103.44999695 106.04000092 106.19000244 106.77999878 106.88999939\n",
      " 107.43000031 107.58000183 107.13999939 104.90000153 103.93000031\n",
      " 104.93000031 106.48000336 109.11000061 110.16999817 108.51000214\n",
      " 107.98000336 108.66999817 107.29000092 108.5        110.62000275\n",
      " 109.62000275 107.48000336 107.65000153 108.72000122 108.30999756\n",
      " 106.54000092 105.36000061 108.23000336 106.26000214 104.69999695\n",
      " 103.62000275 103.22000122 102.68000031 103.09999847 102.86000061\n",
      " 102.36000061 102.08999634 104.15000153 103.29000092 103.83000183\n",
      " 103.06999969 103.54000092 101.62999725 103.08000183 102.16999817\n",
      " 102.45999908 101.15000153 102.33999634 100.72000122 100.87000275\n",
      "  99.27999878  97.62999725  96.90000153  96.65000153  97.40000153\n",
      "  98.73999786  98.29000092  96.80999756  94.55999756  94.58000183\n",
      "  93.40000153  94.73999786  94.25        95.12999725  93.91000366\n",
      "  93.76000214  93.80000305  93.34999847  93.33999634  94.52999878\n",
      "  93.86000061  92.05000305  92.55000305  93.61000061  95.83000183\n",
      "  96.97000122  97.13999939  98.31999969  97.25        97.20999908\n",
      "  96.26999664  97.18000031  96.98999786  97.58999634  98.40000153\n",
      "  99.11000061  98.62000275  98.87000275  99.18000031  99.94000244\n",
      "  98.90000153  98.16999817  95.13999939  93.30999756  91.90000153\n",
      "  91.36000061  92.38999939  91.44999695  92.15000153  93.77999878\n",
      "  93.54000092  94.51000214  96.34999847  97.48999786  97.33999634\n",
      "  98.25        97.55000305  97.83999634  99.98000336 100.12000275\n",
      "  99.95999908 100.37999725 100.26999664 100.30999756 102.54000092\n",
      " 103.19999695 102.52999878 103.16999817 102.19999695 102.93000031\n",
      " 102.87999725 105.33999634 103.63999939 101.75       101.81999969\n",
      " 102.81999969 101.38999939 100.29000092  98.56999969  99.23000336\n",
      "  98.43000031 100.08000183 100.70999908  99.68000031  99.97000122\n",
      " 100.05000305  99.66000366 100.61000061 101.25       101.73000336\n",
      " 101.56999969  99.69000244  99.59999847 101.16000366 100.43000031\n",
      " 102.56999969 103.55000305 103.37000275 103.68000031 104.05000305\n",
      " 103.69999695 103.70999908 104.33000183 104.34999847 101.69000244\n",
      " 101.47000122 100.84999847 101.12999725 101.55999756 100.06999969\n",
      " 100.08999634  99.73999786  99.80999756 101.05999756 100.51999664\n",
      " 100.31999969 100.88999939 102.01000214 102.62999725 101.73999786\n",
      " 102.30999756 102.94999695 102.80000305 104.30999756 104.02999878\n",
      " 105.01000214 104.77999878 104.26000214 103.40000153 103.33999634\n",
      " 103.26999664 103.31999969 105.08999634 105.01999664 105.04000092\n",
      " 107.19999695 107.48999786 107.51999664 106.94999695 106.63999939\n",
      " 107.08000183 107.94999695 106.83000183 107.04000092 106.48999786\n",
      " 106.45999908 106.06999969 106.05999756 105.18000031 104.19000244\n",
      " 104.05999756 103.61000061 101.48000336 100.55999756 101.87999725\n",
      " 103.83999634 104.58999634 103.80999756 102.76000214 105.23000336\n",
      " 105.68000031 104.91000366 104.29000092  98.23000336  98.26000214\n",
      "  96.93000031  97.61000061  98.08999634  97.36000061  97.56999969\n",
      "  95.54000092  94.34999847  96.40000153  93.97000122  95.38999939\n",
      "  95.77999878  92.91999817  93.31999969  92.63999939  92.73000336\n",
      "  91.70999908  92.88999939  92.18000031  92.86000061  94.91000366\n",
      "  94.33000183  93.06999969  92.43000031  91.45999908  91.55000305\n",
      "  93.58999634  91.16999817  91.01999664  89.76000214  90.33000183\n",
      "  88.88999939  87.29000092  85.76000214  85.87000275  85.73000336\n",
      "  81.72000122  81.81999969  82.33000183  82.80000305  82.76000214\n",
      "  83.25        80.51999664  82.80999756  81.26999664  81.26000214\n",
      "  81.36000061  82.25        81.05999756  80.52999878  78.76999664\n",
      "  77.15000153  78.70999908  77.87000275  77.43000031  77.84999847\n",
      "  77.16000366  74.12999725  75.91000366  75.63999939  74.55000305\n",
      "  75.62999725  76.51999664  75.73999786  74.04000092  73.69999695\n",
      "  65.94000244  68.98000336  66.98999786  67.30000305  66.73000336\n",
      "  65.88999939  63.13000107  63.74000168  60.99000168  60.00999832\n",
      "  57.81000137  55.95999908  55.97000122  56.43000031  54.18000031\n",
      "  56.90999985  55.25        56.77999878  55.70000076  54.59000015\n",
      "  53.45999908  54.13999939  53.45000076  52.72000122  50.04999924\n",
      "  47.97999954  48.68999863  48.79999924  48.34999847  46.06000137\n",
      "  45.91999817  48.49000168  46.36999893  46.79000092  47.84999847\n",
      "  45.93000031  45.25999832  44.79999924  45.84000015  44.08000183\n",
      "  44.11999893  47.79000092  49.25        53.04000092  48.45000076\n",
      "  50.47999954  51.65999985  52.99000168  50.06000137  51.16999817\n",
      "  52.65999985  53.56000137  52.13000107  51.11999893  49.95000076\n",
      "  49.56000137  48.47999954  50.25        47.65000153  49.84000015\n",
      "  49.59000015  50.43000031  51.52999878  50.75999832  49.61000061\n",
      "  48.41999817  48.06000137  47.11999893  44.88000107  43.93000031\n",
      "  43.38999939  44.63000107  44.02000046  46.          47.40000153\n",
      "  47.02999878  48.75        51.40999985  48.83000183  48.65999985\n",
      "  47.72000122  50.11999893  49.13000107  52.08000183  53.95000076\n",
      "  50.43999863  50.79000092  51.63000107  51.95000076  53.29999924\n",
      "  56.25        56.68999863  55.70999908  56.36999893  55.58000183\n",
      "  56.16999817  56.59000015  55.97999954  55.56000137  57.04999924\n",
      "  58.54999924  59.61999893  59.09999847  58.91999817  60.38000107\n",
      "  60.93000031  58.99000168  59.40999985  59.22999954  60.72000122\n",
      "  60.5         59.88999939  59.72999954  59.43999863  57.29999924\n",
      "  58.95999908  60.18000031  58.88000107  57.29000092  57.50999832\n",
      "  57.68999863  60.25        60.24000168  61.29999924  59.66999817\n",
      "  58.          59.11000061  58.15000153  60.15000153  61.36000061\n",
      "  60.74000168  59.95999908  59.52999878  60.40999985  61.04999924\n",
      "  59.59000015  58.34000015  59.47999954  56.93999863  56.93000031\n",
      "  52.47999954  52.33000183  51.61000061  52.75999832  52.74000168\n",
      "  52.18999863  53.04999924  51.40000153  50.90000153  50.88000107\n",
      "  50.11000061  50.59000015  49.27000046  48.11000061  47.16999817\n",
      "  47.97000122  48.77000046  48.52999878  47.11000061  45.25\n",
      "  45.75        45.13000107  44.68999863  43.86999893  44.93999863\n",
      "  43.11000061  43.22000122  42.27000046  42.45000076  41.93000031\n",
      "  42.58000183  40.75        41.          40.45000076  38.22000122\n",
      "  39.15000153  38.5         42.47000122  45.29000092  49.20000076\n",
      "  45.38000107  46.29999924  46.75        46.02000046  44.13000107\n",
      "  45.84999847  44.75        44.06999969  44.58000183  46.93000031\n",
      "  44.70999908  46.66999817  46.16999817  44.52999878  45.54999924\n",
      "  44.40000153  45.24000168  45.06000137  45.54000092  46.27999878\n",
      "  47.86000061  49.45999908  49.66999817  47.09000015  46.70000076\n",
      "  46.63000107  46.38000107  47.29999924  45.90999985  45.22000122\n",
      "  44.90000153  43.90999985  43.18999863  43.20999908  46.59999847\n",
      "  46.11999893  47.88000107  46.31999969  45.27000046  44.31999969\n",
      "  44.22999954  42.95000076  41.74000168  40.68999863  41.68000031\n",
      "  40.72999954  40.54999924  39.38999939  39.27000046  40.88999939\n",
      "  41.22000122  40.56999969  40.43000031  40.58000183  39.93000031\n",
      "  41.08000183  40.          37.63999939  37.45999908  37.15999985\n",
      "  36.75999832  35.65000153  36.31000137  37.31999969  35.54999924\n",
      "  34.97999954  34.72000122  34.54999924  36.11999893  37.61999893\n",
      "  36.36000061  37.88000107  36.59000015  37.13000107  36.81000137\n",
      "  35.97000122  33.97000122  33.29000092  33.20000076  31.42000008\n",
      "  30.42000008  31.21999931  29.45000076  28.46999931  26.68000031\n",
      "  29.54999924  32.06999969  30.30999947  29.54000092  32.31999969\n",
      "  33.20999908  33.65999985  31.62000084  29.89999962  32.29000092\n",
      "  31.62999916  30.86000061  29.70999908  27.95999908  27.54000092\n",
      "  26.19000053  29.31999969  29.04999924  30.68000031  30.77000046\n",
      "  29.59000015  31.37000084  31.84000015  30.35000038  31.39999962\n",
      "  31.64999962  32.74000168  34.38999939  34.56999969  34.56000137\n",
      "  35.90999985  37.90000153  36.66999817  37.77000046  38.50999832\n",
      "  37.20000076  36.31999969  38.43000031  40.16999817  39.47000122\n",
      "  39.90999985  41.45000076  38.27999878  38.13999939  37.99000168\n",
      "  36.90999985  36.93999863  35.36000061  34.29999924  34.52000046\n",
      "  37.74000168  37.29999924  39.74000168  40.45999908  42.11999893\n",
      "  41.70000076  40.40000153  40.88000107  42.72000122  43.18000031\n",
      "  42.75999832  41.66999817  42.52000046  46.02999878  45.97999954\n",
      "  43.65000153  43.77000046  44.33000183  43.45000076  44.68000031\n",
      "  46.20999908  46.63999939  46.22000122  48.29000092  48.11999893\n",
      "  48.15999985  47.66999817  48.04000092  49.09999847  49.\n",
      "  49.36000061  49.06999969  49.13999939  49.70999908  50.36999893\n",
      "  51.22999954  50.52000046  49.09000015  48.88999939  47.91999817\n",
      "  46.13999939  48.          49.40000153  48.95000076  49.15999985\n",
      "  49.34000015  45.79999924  47.93000031  49.84999847  48.27000046\n",
      "  49.02000046  46.72999954  47.36999893  45.36999893  44.72999954\n",
      "  46.81999969  44.86999893  45.63999939  45.22999954  44.63999939\n",
      "  44.95999908  43.95999908  43.40999985  42.40000153  42.15999985\n",
      "  41.90000153  41.13000107  41.54000092  40.04999924  39.5\n",
      "  40.79999924  41.91999817  41.83000183  43.06000137  42.77999878\n",
      "  41.75        43.50999832  44.47000122  45.72000122  46.56999969\n",
      "  46.81000137  48.20000076  46.79999924  47.54000092  46.29000092\n",
      "  46.97000122  47.63999939  43.16999817  44.38999939  44.84999847\n",
      "  45.47000122  47.63000107  45.88000107  44.90999985  43.61999893\n",
      "  43.84999847  43.04000092  43.34000015  45.33000183  46.09999847\n",
      "  44.36000061  45.59999847  44.65000153  47.06999969  48.66999817\n",
      "  49.75        49.75999832  50.72000122  50.13999939  50.47000122\n",
      "  50.34999847  49.97000122  50.29999924  51.59000015  50.31000137\n",
      "  50.61000061  50.18000031  49.45000076  48.72000122  46.83000183\n",
      "  46.65999985  45.31999969  44.65999985  45.20000076  44.61999893\n",
      "  43.29000092  45.86000061  45.56000137  45.68999863  47.47999954\n",
      "  48.06999969  46.72000122  45.65999985  49.40999985  51.08000183\n",
      "  51.70000076  51.72000122  50.95000076  50.84000015  51.50999832\n",
      "  51.00999832  51.93000031  52.22000122  51.43999863  51.97999954\n",
      "  52.00999832  52.81999969  54.00999832  53.79999924  53.75\n",
      "  52.36000061  53.25999832  53.77000046  53.97999954  50.81999969\n",
      "  53.00999832  52.45000076  51.38999939  52.77000046  52.38000107\n",
      "  52.13999939  53.24000168  53.18000031  52.63000107  52.75\n",
      "  53.90000153  53.54999924  53.81000137  52.36999893  53.84000015\n",
      "  52.95999908  53.20999908  53.11000061  53.40999985  54.02000046\n",
      "  53.61000061  54.47999954  53.99000168  54.04000092  54.\n",
      "  53.81999969  53.33000183  53.18999863  52.68000031  49.83000183\n",
      "  48.04999924  47.95000076  47.24000168  48.34000015  48.29999924\n",
      "  47.02000046  47.29000092  47.          48.36000061  49.47000122\n",
      "  50.54000092  50.99000168  51.13999939  51.68999863  52.25\n",
      "  53.06000137  53.38000107  53.11999893  52.61999893  52.45999908\n",
      "  50.49000168  50.25999832  49.63999939  48.90000153  49.22000122\n",
      "  48.95999908  49.31000137  46.22999954  46.45999908  47.27999878\n",
      "  47.81000137  47.83000183  48.86000061  48.63999939  49.04000092\n",
      "  50.31999969  50.81000137  48.56999969  49.58000183  49.63000107\n",
      "  48.31999969  47.68000031  48.13000107  45.68000031  45.81999969\n",
      "  46.40999985  44.79000092  44.24000168  42.47999954  42.52999878\n",
      "  42.86000061  43.24000168  44.25        44.74000168  45.11000061\n",
      "  45.52000046  45.47999954  46.52999878  46.40000153  47.09999847\n",
      "  45.77999878  47.77000046  48.58000183  49.04999924  49.72000122\n",
      "  50.20999908  49.18999863  49.59999847  49.02999878  49.56999969\n",
      "  49.36999893  48.54000092  48.81000137  47.59000015  47.56999969\n",
      "  48.59000015  47.38999939  45.95999908  47.25999832]\n",
      "==================================================\n",
      "\n",
      "\n"
     ]
    }
   ],
   "source": [
    "def print_unique_values(df, df_name):\n",
    "    columns = df.columns\n",
    "    print(f'Unique values in {df_name}:')\n",
    "    for column in columns:\n",
    "        print(f'{column}')\n",
    "        unique_values = df[column].unique()\n",
    "        print(f'There are {unique_values.size} unique values')\n",
    "        print(f'{unique_values}')\n",
    "        print('=' * 50)\n",
    "    print('\\n')\n",
    "\n",
    "# Check unique values in df_stores\n",
    "print_unique_values(df_stores, 'df_stores')\n",
    "\n",
    "# Check unique values in df_holidays_events\n",
    "print_unique_values(df_holidays_events, 'df_holidays_events')\n",
    "\n",
    "# Check unique values in data_oil\n",
    "print_unique_values(data_oil, 'data_oil')"
   ]
  },
  {
   "cell_type": "markdown",
   "metadata": {},
   "source": [
    "#### UNIVARIATE ANALYSIS"
   ]
  },
  {
   "cell_type": "code",
   "execution_count": 25,
   "metadata": {},
   "outputs": [
    {
     "data": {
      "image/png": "[encoded data removed]",
      "text/plain": [
       "<Figure size 1200x600 with 1 Axes>"
      ]
     },
     "metadata": {},
     "output_type": "display_data"
    }
   ],
   "source": [
    "# Count of stores by state\n",
    "plt.figure(figsize=(12, 6))\n",
    "sns.countplot(x='state', data=df_stores, order=df_stores['state'].value_counts().index)\n",
    "plt.title('Count of Stores by State')\n",
    "plt.xlabel('State')\n",
    "plt.ylabel('Count')\n",
    "plt.xticks(rotation=45)\n",
    "plt.show()"
   ]
  },
  {
   "cell_type": "code",
   "execution_count": 26,
   "metadata": {},
   "outputs": [
    {
     "data": {
      "image/png": "[encoded data removed]",
      "text/plain": [
       "<Figure size 1200x600 with 1 Axes>"
      ]
     },
     "metadata": {},
     "output_type": "display_data"
    }
   ],
   "source": [
    "# Count of stores by city\n",
    "plt.figure(figsize=(12, 6))\n",
    "sns.countplot(x='city', data=df_stores, order=df_stores['city'].value_counts().index)\n",
    "plt.title('Count of Stores by City')\n",
    "plt.xlabel('City')\n",
    "plt.ylabel('Count')\n",
    "plt.xticks(rotation=90)\n",
    "plt.show()"
   ]
  }
 ],
 "metadata": {
  "kernelspec": {
   "display_name": "virtual",
   "language": "python",
   "name": "python3"
  },
  "language_info": {
   "codemirror_mode": {
    "name": "ipython",
    "version": 3
   },
   "file_extension": ".py",
   "mimetype": "text/x-python",
   "name": "python",
   "nbconvert_exporter": "python",
   "pygments_lexer": "ipython3",
   "version": "3.12.0"
  }
 },
 "nbformat": 4,
 "nbformat_minor": 2
}
